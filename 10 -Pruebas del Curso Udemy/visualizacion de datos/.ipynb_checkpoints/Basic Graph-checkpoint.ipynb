{
 "cells": [
  {
   "cell_type": "code",
   "execution_count": 6,
   "id": "621b182a-f450-4665-b1c8-3daa0058ba1d",
   "metadata": {},
   "outputs": [
    {
     "name": "stderr",
     "output_type": "stream",
     "text": [
      "BokehDeprecationWarning: 'triangle() method' was deprecated in Bokeh 3.4.0 and will be removed, use \"scatter(marker='triangle', ...) instead\" instead.\n"
     ]
    }
   ],
   "source": [
    "#haciendo un grafico de bokeh basico\n",
    "\n",
    "#importando bokeh\n",
    "from bokeh.plotting import figure\n",
    "from bokeh.io import output_file, show\n",
    "\n",
    "#preparando algunos datos\n",
    "x=[1,2,3,4,5]\n",
    "y=[6,7,8,9,10]\n",
    "\n",
    "#preparando la salida\n",
    "output_file(\"Line.html\")\n",
    "\n",
    "#crando el objeto figura\n",
    "f=figure()\n",
    "\n",
    "#creando la linea\n",
    "f.triangle(x,y)\n",
    "\n",
    "show(f)"
   ]
  },
  {
   "cell_type": "code",
   "execution_count": null,
   "id": "d777171d-cc50-48eb-8aef-e6e66d8f8c3e",
   "metadata": {},
   "outputs": [],
   "source": []
  }
 ],
 "metadata": {
  "kernelspec": {
   "display_name": "Python 3 (ipykernel)",
   "language": "python",
   "name": "python3"
  },
  "language_info": {
   "codemirror_mode": {
    "name": "ipython",
    "version": 3
   },
   "file_extension": ".py",
   "mimetype": "text/x-python",
   "name": "python",
   "nbconvert_exporter": "python",
   "pygments_lexer": "ipython3",
   "version": "3.12.1"
  }
 },
 "nbformat": 4,
 "nbformat_minor": 5
}
